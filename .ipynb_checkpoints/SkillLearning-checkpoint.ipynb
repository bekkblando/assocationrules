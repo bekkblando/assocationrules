{
 "cells": [
  {
   "cell_type": "markdown",
   "metadata": {},
   "source": [
    "####This is a notebook to figure out and create the machine learning script for my iron yard final project skillswap\n",
    "####The script should recommend what people want to learn based off what they have put as knowing"
   ]
  },
  {
   "cell_type": "code",
   "execution_count": 38,
   "metadata": {
    "collapsed": true
   },
   "outputs": [],
   "source": [
    "import sklearn\n",
    "import numpy\n",
    "import pandas as pd\n",
    "import matplotlib.pyplot as plt\n",
    "import numpy as np\n",
    "from sklearn.cross_validation import train_test_split\n",
    "from sklearn import linear_model"
   ]
  },
  {
   "cell_type": "code",
   "execution_count": 39,
   "metadata": {
    "collapsed": true
   },
   "outputs": [],
   "source": [
    "%matplotlib inline"
   ]
  },
  {
   "cell_type": "code",
   "execution_count": 124,
   "metadata": {
    "collapsed": true
   },
   "outputs": [],
   "source": [
    "learn= [\"Handling Complaints\",\n",
    "\"Human Resources\",\n",
    "\"Independent Action\",\n",
    "\"Information Search\",\n",
    "\"Innovation\",\n",
    "\"Interpersonal\",\n",
    "\"Interviews\",\n",
    "\"Inventing New Ideas\",\n",
    "\"Investigation\",\n",
    "\"Involvement\",\n",
    "\"Knowledge of Current Governmental Affairs\",\n",
    "\"Language Translation\",\n",
    "\"Leadership\",\n",
    "\"Listening\",\n",
    "\"Locating Missing Documents/Information\",\n",
    "\"Logical Thinking\",\n",
    "\"Maintaining High Levels of Activity\",\n",
    "\"Maintenance\",\n",
    "\"Management\",\n",
    "\"Managing Finances\",\n",
    "\"Measuring Boundaries\",\n",
    "\"Medical Assistance\",\n",
    "\"Meeting Deadlines\",\n",
    "\"Microsoft Office\",\n",
    "\"Monetary Collection\",\n",
    "\"Motivation\",\n",
    "\"Multitasking\"]\n",
    "\n",
    "learn1 =[ \"Logical Thinking\",\n",
    "\"Maintaining High Levels of Activity\",\n",
    "\"Maintenance\",\n",
    "\"Management\",\n",
    "\"Managing Finances\",\n",
    "\"Measuring Boundaries\",]\n",
    "\n",
    "\n",
    "learn2 = [\n",
    "    \"Leadership\",\n",
    "\"Listening\",\n",
    "\"Locating Missing Documents/Information\",\n",
    "\"Logical Thinking\",\n",
    "]"
   ]
  },
  {
   "cell_type": "code",
   "execution_count": 74,
   "metadata": {
    "collapsed": true
   },
   "outputs": [],
   "source": [
    "know = [\n",
    "\"Negotiation\",\n",
    "\"Networking\",\n",
    "\"Nonverbal Communication\",\n",
    "\"Numerical Analysis\",\n",
    "\"Oration\",\n",
    "\"Organizational\",\n",
    "\"Organizational Management\",\n",
    "\"Organizational Tasks\",\n",
    "\"Overseeing Meetings\",\n",
    "\"Overseeing Operation\",\n",
    "\"Personal Interaction\",\n",
    "\"Plan Development\",\n",
    "\"Planning\",\n",
    "\"Prediction\",\n",
    "\"Preparing Written Documents\",\n",
    "\"Principal Concept Knowledge\",\n",
    "\"Prioritizing\",\n",
    "\"Problem Solving\",\n",
    "\"Promotions\",\n",
    "\"Proposals\",\n",
    "\"Proposal Writing\",\n",
    "\"Publications\",\n",
    "\"Public Relations\",\n",
    "\"Public Speaking\",\n",
    "\"Questioning Others\",\n",
    "\"Reading Volumes\",\n",
    "\"Recommendations\",\n",
    "\"Regulating Rules\",\n",
    "\"Rehabilitating Others\",\n",
    "\"Remembering Facts\",\n",
    "\"Reporting\",\n",
    "\"Report Writing\",\n",
    "\"Responsibility\",\n",
    "\"Service\",\n",
    "\"Scheduling\",\n",
    "\"Screening Calls\",\n",
    "\"Sketching\",\n",
    "\"Supervision\"\n",
    "]"
   ]
  },
  {
   "cell_type": "code",
   "execution_count": 120,
   "metadata": {
    "collapsed": false
   },
   "outputs": [],
   "source": [
    "learnvalues = [[hash(item)] for item in learn]\n",
    "knowvalues = [[hash(item)] for item in know]"
   ]
  },
  {
   "cell_type": "code",
   "execution_count": 89,
   "metadata": {
    "collapsed": false
   },
   "outputs": [
    {
     "name": "stdout",
     "output_type": "stream",
     "text": [
      "(7, 1) (7, 1)\n"
     ]
    }
   ],
   "source": [
    "testlearnvalues = learnvalues[:20]\n",
    "testknowvalues = knowvalues[:20]\n",
    "trainlearnvalues = np.array(learnvalues[20:])\n",
    "trainknowvalues = np.array(knowvalues[20:27])\n",
    "print(trainknowvalues.shape, trainlearnvalues.shape)"
   ]
  },
  {
   "cell_type": "code",
   "execution_count": 161,
   "metadata": {
    "collapsed": false,
    "scrolled": false
   },
   "outputs": [
    {
     "name": "stdout",
     "output_type": "stream",
     "text": [
      "-0.359569467838\n"
     ]
    },
    {
     "data": {
      "text/plain": [
       "[<matplotlib.lines.Line2D at 0x10da00e80>]"
      ]
     },
     "execution_count": 161,
     "metadata": {},
     "output_type": "execute_result"
    },
    {
     "data": {
      "image/png": "[encoded data removed]",
      "text/plain": [
       "<matplotlib.figure.Figure at 0x10df25278>"
      ]
     },
     "metadata": {},
     "output_type": "display_data"
    }
   ],
   "source": [
    "\n",
    "regr1 = linear_model.LinearRegression()\n",
    "regr1.fit(trainknowvalues, trainlearnvalues)\n",
    "print(regr1.score(testknowvalues, testlearnvalues))\n",
    "plt.scatter(trainknowvalues, trainlearnvalues,  color='black')\n",
    "plt.plot(trainknowvalues, regr1.predict(trainlearnvalues), color='blue', linewidth=3)"
   ]
  },
  {
   "cell_type": "markdown",
   "metadata": {},
   "source": [
    "###Well thats not going to work"
   ]
  },
  {
   "cell_type": "code",
   "execution_count": 72,
   "metadata": {
    "collapsed": false
   },
   "outputs": [
    {
     "name": "stdout",
     "output_type": "stream",
     "text": [
      "-6979845137623971146\n",
      "-6185600207872323190\n"
     ]
    }
   ],
   "source": []
  },
  {
   "cell_type": "markdown",
   "metadata": {
    "collapsed": true
   },
   "source": [
    "##Lets try learning association rules\n",
    "\n",
    "Thank you too\n",
    "http://aimotion.blogspot.com/2013/01/machine-learning-and-data-mining.html"
   ]
  },
  {
   "cell_type": "code",
   "execution_count": 135,
   "metadata": {
    "collapsed": false
   },
   "outputs": [
    {
     "name": "stdout",
     "output_type": "stream",
     "text": [
      "[7878344756835222063, 246399227600936501, 6285280730451652873, 5134146300809597352, 2198312793668981846, 1505028288917896300, 3855131884338988801, 130327215661206122, 3293332803563501729, 8958947811818809087, 32810207963129196, 3384771929842366953, 6991233305330643551, 7422777339821333649, 5717059262422017288, 7009938857583296459, 8058778411959629084, 2481673060494530499, 1791856768326767110, 4231173021584526540, 8548274474450450231, 1394347602504760186, 7860079717507899491, 2780232507579074131, 375514945645949244, 5872330416533931589, 1638146749970881179] [7009938857583296459, 8058778411959629084, 2481673060494530499, 1791856768326767110, 4231173021584526540, 8548274474450450231] [6991233305330643551, 7422777339821333649, 5717059262422017288, 7009938857583296459]\n",
      "<class 'int'>\n"
     ]
    }
   ],
   "source": [
    "learnvalues = [abs(hash(item)) for item in learn]\n",
    "learn1values = [abs(hash(item)) for item in learn1]\n",
    "learn2values = [abs(hash(item)) for item in learn2]\n",
    "print(learnvalues, learn1values, learn2values)\n",
    "print(type(learnvalues[0]))"
   ]
  },
  {
   "cell_type": "code",
   "execution_count": 138,
   "metadata": {
    "collapsed": true
   },
   "outputs": [],
   "source": [
    "def load_dataset():\n",
    "    \"Load the sample dataset.\"\n",
    "    return [learnvalues, learn1values, learn2values]\n",
    "\n",
    "\n",
    "def createC1(dataset):\n",
    "    \"Create a list of candidate item sets of size one.\"\n",
    "    c1 = []\n",
    "    for transaction in dataset:\n",
    "        for item in transaction:\n",
    "            if not [item] in c1:\n",
    "                c1.append([item])\n",
    "    c1.sort()\n",
    "    #frozenset because it will be a ket of a dictionary.\n",
    "    return map(frozenset, c1)\n",
    "\n",
    "\n",
    "def scanD(dataset, candidates, min_support):\n",
    "    \"Returns all candidates that meets a minimum support level\"\n",
    "    sscnt = {}\n",
    "    for tid in dataset:\n",
    "        for can in candidates:\n",
    "            if can.issubset(tid):\n",
    "                sscnt.setdefault(can, 0)\n",
    "                sscnt[can] += 1\n",
    "\n",
    "    num_items = float(len(dataset))\n",
    "    retlist = []\n",
    "    support_data = {}\n",
    "    for key in sscnt:\n",
    "        support = sscnt[key] / num_items\n",
    "        if support >= min_support:\n",
    "            retlist.insert(0, key)\n",
    "        support_data[key] = support\n",
    "    return retlist, support_data\n",
    "\n",
    "\n",
    "def aprioriGen(freq_sets, k):\n",
    "    \"Generate the joint transactions from candidate sets\"\n",
    "    retList = []\n",
    "    lenLk = len(freq_sets)\n",
    "    for i in range(lenLk):\n",
    "        for j in range(i + 1, lenLk):\n",
    "            L1 = list(freq_sets[i])[:k - 2]\n",
    "            L2 = list(freq_sets[j])[:k - 2]\n",
    "            L1.sort()\n",
    "            L2.sort()\n",
    "            if L1 == L2:\n",
    "                retList.append(freq_sets[i] | freq_sets[j])\n",
    "    return retList\n",
    "\n",
    "\n",
    "def apriori(dataset, minsupport=0.5):\n",
    "    \"Generate a list of candidate item sets\"\n",
    "    C1 = createC1(dataset)\n",
    "    D = map(set, dataset)\n",
    "    L1, support_data = scanD(D, C1, minsupport)\n",
    "    L = [L1]\n",
    "    k = 2\n",
    "    while (len(L[k - 2]) > 0):\n",
    "        Ck = aprioriGen(L[k - 2], k)\n",
    "        Lk, supK = scanD(D, Ck, minsupport)\n",
    "        support_data.update(supK)\n",
    "        L.append(Lk)\n",
    "        k += 1\n",
    "\n",
    "    return L, support_data"
   ]
  },
  {
   "cell_type": "markdown",
   "metadata": {},
   "source": [
    "It's in python 2.7 so I have to make a few adjustments to run"
   ]
  },
  {
   "cell_type": "code",
   "execution_count": 147,
   "metadata": {
    "collapsed": false
   },
   "outputs": [
    {
     "name": "stdout",
     "output_type": "stream",
     "text": [
      "[[7878344756835222063], [246399227600936501], [6285280730451652873], [5134146300809597352], [2198312793668981846], [1505028288917896300], [3855131884338988801], [130327215661206122], [3293332803563501729], [8958947811818809087], [32810207963129196], [3384771929842366953], [6991233305330643551], [7422777339821333649], [5717059262422017288], [7009938857583296459], [8058778411959629084], [2481673060494530499], [1791856768326767110], [4231173021584526540], [8548274474450450231], [1394347602504760186], [7860079717507899491], [2780232507579074131], [375514945645949244], [5872330416533931589], [1638146749970881179]]\n"
     ]
    }
   ],
   "source": [
    "dataset = load_dataset()\n",
    "C1 = list(createC1(dataset))\n",
    "D = list(map(set, dataset))\n",
    "L1,support_data = scanD(D,C1,0.5)\n",
    "learnsets = aprioriGen(L1, 2)\n"
   ]
  },
  {
   "cell_type": "markdown",
   "metadata": {},
   "source": [
    "Hmmm thats a lot of iteration"
   ]
  },
  {
   "cell_type": "code",
   "execution_count": 168,
   "metadata": {
    "collapsed": false
   },
   "outputs": [
    {
     "name": "stdout",
     "output_type": "stream",
     "text": [
      "['Measuring Boundaries', 'Maintaining High Levels of Activity']\n",
      "['Leadership', 'Maintaining High Levels of Activity']\n",
      "['Management', 'Maintaining High Levels of Activity']\n",
      "['Locating Missing Documents/Information', 'Maintaining High Levels of Activity']\n",
      "['Listening', 'Maintaining High Levels of Activity']\n",
      "['Maintenance', 'Maintaining High Levels of Activity']\n",
      "['Logical Thinking', 'Maintaining High Levels of Activity']\n",
      "['Managing Finances', 'Maintaining High Levels of Activity']\n",
      "['Measuring Boundaries', 'Leadership']\n",
      "['Measuring Boundaries', 'Management']\n",
      "['Measuring Boundaries', 'Locating Missing Documents/Information']\n",
      "['Measuring Boundaries', 'Listening']\n",
      "['Measuring Boundaries', 'Maintenance']\n",
      "['Measuring Boundaries', 'Logical Thinking']\n",
      "['Measuring Boundaries', 'Managing Finances']\n",
      "['Leadership', 'Management']\n",
      "['Leadership', 'Locating Missing Documents/Information']\n",
      "['Leadership', 'Listening']\n",
      "['Leadership', 'Maintenance']\n",
      "['Leadership', 'Logical Thinking']\n",
      "['Leadership', 'Managing Finances']\n",
      "['Locating Missing Documents/Information', 'Management']\n",
      "['Listening', 'Management']\n",
      "['Maintenance', 'Management']\n",
      "['Management', 'Logical Thinking']\n",
      "['Managing Finances', 'Management']\n",
      "['Locating Missing Documents/Information', 'Listening']\n",
      "['Locating Missing Documents/Information', 'Maintenance']\n",
      "['Locating Missing Documents/Information', 'Logical Thinking']\n",
      "['Locating Missing Documents/Information', 'Managing Finances']\n",
      "['Listening', 'Maintenance']\n",
      "['Listening', 'Logical Thinking']\n",
      "['Listening', 'Managing Finances']\n",
      "['Maintenance', 'Logical Thinking']\n",
      "['Maintenance', 'Managing Finances']\n",
      "['Managing Finances', 'Logical Thinking']\n"
     ]
    }
   ],
   "source": [
    "learnsets\n",
    "itemlearnsets = []\n",
    "for item in learnsets:\n",
    "    itemlist = []\n",
    "    item = list(item)\n",
    "    for skill in learn:\n",
    "        if item[0] == abs(hash(skill)):\n",
    "            itemlist.append(skill)\n",
    "            for skill in learn:\n",
    "                if item[1] == abs(hash(skill)):\n",
    "                    itemlist.append(skill)\n",
    "    itemlearnsets.append(itemlist)\n",
    "for item in itemlearnsets:\n",
    "    print(item)"
   ]
  },
  {
   "cell_type": "markdown",
   "metadata": {},
   "source": [
    "The first item is the skill it looks at and the second is the skill recommendation based off the association rules created from the data"
   ]
  },
  {
   "cell_type": "code",
   "execution_count": null,
   "metadata": {
    "collapsed": true
   },
   "outputs": [],
   "source": []
  }
 ],
 "metadata": {
  "kernelspec": {
   "display_name": "Python 3",
   "language": "python",
   "name": "python3"
  },
  "language_info": {
   "codemirror_mode": {
    "name": "ipython",
    "version": 3
   },
   "file_extension": ".py",
   "mimetype": "text/x-python",
   "name": "python",
   "nbconvert_exporter": "python",
   "pygments_lexer": "ipython3",
   "version": "3.4.3"
  }
 },
 "nbformat": 4,
 "nbformat_minor": 0
}
